{
 "cells": [
  {
   "cell_type": "markdown",
   "metadata": {},
   "source": [
    "### Requests: HTTP for Humans\n",
    "- Request Library allows us to easily make HTTP request to get information from websites\n",
    "- To get information from a website : Request\n",
    "- To parse information that we get from a website we must use beautifulsoup, requesthtml\n",
    "- `pip install requests`"
   ]
  },
  {
   "cell_type": "code",
   "execution_count": 1,
   "metadata": {},
   "outputs": [],
   "source": [
    "import requests\n",
    "url = \"https://xkcd.com/353/\"\n",
    "r = requests.get(url)"
   ]
  },
  {
   "cell_type": "code",
   "execution_count": 2,
   "metadata": {},
   "outputs": [
    {
     "data": {
      "text/plain": [
       "['__attrs__',\n",
       " '__bool__',\n",
       " '__class__',\n",
       " '__delattr__',\n",
       " '__dict__',\n",
       " '__dir__',\n",
       " '__doc__',\n",
       " '__enter__',\n",
       " '__eq__',\n",
       " '__exit__',\n",
       " '__format__',\n",
       " '__ge__',\n",
       " '__getattribute__',\n",
       " '__getstate__',\n",
       " '__gt__',\n",
       " '__hash__',\n",
       " '__init__',\n",
       " '__init_subclass__',\n",
       " '__iter__',\n",
       " '__le__',\n",
       " '__lt__',\n",
       " '__module__',\n",
       " '__ne__',\n",
       " '__new__',\n",
       " '__nonzero__',\n",
       " '__reduce__',\n",
       " '__reduce_ex__',\n",
       " '__repr__',\n",
       " '__setattr__',\n",
       " '__setstate__',\n",
       " '__sizeof__',\n",
       " '__str__',\n",
       " '__subclasshook__',\n",
       " '__weakref__',\n",
       " '_content',\n",
       " '_content_consumed',\n",
       " '_next',\n",
       " 'apparent_encoding',\n",
       " 'close',\n",
       " 'connection',\n",
       " 'content',\n",
       " 'cookies',\n",
       " 'elapsed',\n",
       " 'encoding',\n",
       " 'headers',\n",
       " 'history',\n",
       " 'is_permanent_redirect',\n",
       " 'is_redirect',\n",
       " 'iter_content',\n",
       " 'iter_lines',\n",
       " 'json',\n",
       " 'links',\n",
       " 'next',\n",
       " 'ok',\n",
       " 'raise_for_status',\n",
       " 'raw',\n",
       " 'reason',\n",
       " 'request',\n",
       " 'status_code',\n",
       " 'text',\n",
       " 'url']"
      ]
     },
     "execution_count": 2,
     "metadata": {},
     "output_type": "execute_result"
    }
   ],
   "source": [
    "# some attribute and functions for r\n",
    "dir(r)"
   ]
  },
  {
   "cell_type": "code",
   "execution_count": null,
   "metadata": {},
   "outputs": [],
   "source": []
  },
  {
   "cell_type": "markdown",
   "metadata": {},
   "source": [
    "- Get an image and download it"
   ]
  },
  {
   "cell_type": "code",
   "execution_count": 4,
   "metadata": {},
   "outputs": [],
   "source": [
    "i = requests.get(\"https://imgs.xkcd.com/comics/python.png\")\n",
    "with open(\"image.png\",\"wb\") as f :\n",
    "    f.write(i.content)"
   ]
  },
  {
   "cell_type": "markdown",
   "metadata": {},
   "source": [
    "- Status codes :\n",
    "    - 200 : success\n",
    "    - 300 : redirect\n",
    "    - 400 : client error --permission--\n",
    "    - 500 : server error"
   ]
  },
  {
   "cell_type": "code",
   "execution_count": 5,
   "metadata": {},
   "outputs": [
    {
     "data": {
      "text/plain": [
       "200"
      ]
     },
     "execution_count": 5,
     "metadata": {},
     "output_type": "execute_result"
    }
   ],
   "source": [
    "i.status_code"
   ]
  },
  {
   "cell_type": "markdown",
   "metadata": {},
   "source": [
    "- ok :\n",
    "    - True if status_code < 400\n",
    "    - Else False "
   ]
  },
  {
   "cell_type": "code",
   "execution_count": 6,
   "metadata": {},
   "outputs": [
    {
     "data": {
      "text/plain": [
       "True"
      ]
     },
     "execution_count": 6,
     "metadata": {},
     "output_type": "execute_result"
    }
   ],
   "source": [
    "i.ok"
   ]
  },
  {
   "cell_type": "markdown",
   "metadata": {},
   "source": [
    "- To get some useful informations : use the attribut headers"
   ]
  },
  {
   "cell_type": "code",
   "execution_count": 7,
   "metadata": {},
   "outputs": [
    {
     "data": {
      "text/plain": [
       "{'Connection': 'keep-alive', 'Content-Length': '90835', 'Server': 'nginx', 'Content-Type': 'image/png', 'Last-Modified': 'Mon, 01 Feb 2010 13:07:49 GMT', 'ETag': '\"4b66d225-162d3\"', 'Expires': 'Wed, 09 Sep 2020 18:36:15 GMT', 'Cache-Control': 'max-age=300', 'Accept-Ranges': 'bytes', 'Date': 'Wed, 09 Sep 2020 19:20:18 GMT', 'Via': '1.1 varnish', 'Age': '17', 'X-Served-By': 'cache-cdg20765-CDG', 'X-Cache': 'HIT', 'X-Cache-Hits': '1', 'X-Timer': 'S1599679218.140264,VS0,VE1'}"
      ]
     },
     "execution_count": 7,
     "metadata": {},
     "output_type": "execute_result"
    }
   ],
   "source": [
    "i.headers"
   ]
  },
  {
   "cell_type": "markdown",
   "metadata": {},
   "source": [
    "- To get the html code of a website"
   ]
  },
  {
   "cell_type": "code",
   "execution_count": 10,
   "metadata": {},
   "outputs": [
    {
     "data": {
      "text/plain": [
       "'<!DOCTYPE html>\\n<html lang=\"en\">\\n\\n<head>\\n    <meta charset=\"UTF-8\">\\n    <title>httpbin.org</title>\\n    <link href=\"https://fonts.googleapis.com/css?family=Open+Sans:400,700|Source+Code+Pro:300,600|Titillium+Web:400,600,700\"\\n        rel=\"stylesheet\">\\n    <link rel=\"stylesheet\" type=\"text/css\" href=\"/flasgger_static/swagger-ui.css\">\\n    <link rel=\"icon\" type=\"image/png\" href=\"/static/favicon.ico\" sizes=\"64x64 32x32 16x16\" />\\n    <style>\\n        html {\\n            box-sizing: border-box;\\n            overflow: -moz-scrollbars-vertical;\\n            overflow-y: scroll;\\n        }\\n\\n        *,\\n        *:before,\\n        *:after {\\n            box-sizing: inherit;\\n        }\\n\\n        body {\\n            margin: 0;\\n            background: #fafafa;\\n        }\\n    </style>\\n</head>\\n\\n<body>\\n    <a href=\"https://github.com/requests/httpbin\" class=\"github-corner\" aria-label=\"View source on Github\">\\n        <svg width=\"80\" height=\"80\" viewBox=\"0 0 250 250\" style=\"fill:#151513; color:#fff; position: absolute; top: 0; border: 0; right: 0;\"\\n            aria-hidden=\"true\">\\n            <path d=\"M0,0 L115,115 L130,115 L142,142 L250,250 L250,0 Z\"></path>\\n            <path d=\"M128.3,109.0 C113.8,99.7 119.0,89.6 119.0,89.6 C122.0,82.7 120.5,78.6 120.5,78.6 C119.2,72.0 123.4,76.3 123.4,76.3 C127.3,80.9 125.5,87.3 125.5,87.3 C122.9,97.6 130.6,101.9 134.4,103.2\"\\n                fill=\"currentColor\" style=\"transform-origin: 130px 106px;\" class=\"octo-arm\"></path>\\n            <path d=\"M115.0,115.0 C114.9,115.1 118.7,116.5 119.8,115.4 L133.7,101.6 C136.9,99.2 139.9,98.4 142.2,98.6 C133.8,88.0 127.5,74.4 143.8,58.0 C148.5,53.4 154.0,51.2 159.7,51.0 C160.3,49.4 163.2,43.6 171.4,40.1 C171.4,40.1 176.1,42.5 178.8,56.2 C183.1,58.6 187.2,61.8 190.9,65.4 C194.5,69.0 197.7,73.2 200.1,77.6 C213.8,80.2 216.3,84.9 216.3,84.9 C212.7,93.1 206.9,96.0 205.4,96.6 C205.1,102.4 203.0,107.8 198.3,112.5 C181.9,128.9 168.3,122.5 157.7,114.1 C157.9,116.9 156.7,120.9 152.7,124.9 L141.0,136.5 C139.8,137.7 141.6,141.9 141.8,141.8 Z\"\\n                fill=\"currentColor\" class=\"octo-body\"></path>\\n        </svg>\\n    </a>\\n    <svg xmlns=\"http://www.w3.org/2000/svg\" xmlns:xlink=\"http://www.w3.org/1999/xlink\" style=\"position:absolute;width:0;height:0\">\\n        <defs>\\n            <symbol viewBox=\"0 0 20 20\" id=\"unlocked\">\\n                <path d=\"M15.8 8H14V5.6C14 2.703 12.665 1 10 1 7.334 1 6 2.703 6 5.6V6h2v-.801C8 3.754 8.797 3 10 3c1.203 0 2 .754 2 2.199V8H4c-.553 0-1 .646-1 1.199V17c0 .549.428 1.139.951 1.307l1.197.387C5.672 18.861 6.55 19 7.1 19h5.8c.549 0 1.428-.139 1.951-.307l1.196-.387c.524-.167.953-.757.953-1.306V9.199C17 8.646 16.352 8 15.8 8z\"></path>\\n            </symbol>\\n\\n            <symbol viewBox=\"0 0 20 20\" id=\"locked\">\\n                <path d=\"M15.8 8H14V5.6C14 2.703 12.665 1 10 1 7.334 1 6 2.703 6 5.6V8H4c-.553 0-1 .646-1 1.199V17c0 .549.428 1.139.951 1.307l1.197.387C5.672 18.861 6.55 19 7.1 19h5.8c.549 0 1.428-.139 1.951-.307l1.196-.387c.524-.167.953-.757.953-1.306V9.199C17 8.646 16.352 8 15.8 8zM12 8H8V5.199C8 3.754 8.797 3 10 3c1.203 0 2 .754 2 2.199V8z\"\\n                />\\n            </symbol>\\n\\n            <symbol viewBox=\"0 0 20 20\" id=\"close\">\\n                <path d=\"M14.348 14.849c-.469.469-1.229.469-1.697 0L10 11.819l-2.651 3.029c-.469.469-1.229.469-1.697 0-.469-.469-.469-1.229 0-1.697l2.758-3.15-2.759-3.152c-.469-.469-.469-1.228 0-1.697.469-.469 1.228-.469 1.697 0L10 8.183l2.651-3.031c.469-.469 1.228-.469 1.697 0 .469.469.469 1.229 0 1.697l-2.758 3.152 2.758 3.15c.469.469.469 1.229 0 1.698z\"\\n                />\\n            </symbol>\\n\\n            <symbol viewBox=\"0 0 20 20\" id=\"large-arrow\">\\n                <path d=\"M13.25 10L6.109 2.58c-.268-.27-.268-.707 0-.979.268-.27.701-.27.969 0l7.83 7.908c.268.271.268.709 0 .979l-7.83 7.908c-.268.271-.701.27-.969 0-.268-.269-.268-.707 0-.979L13.25 10z\"\\n                />\\n            </symbol>\\n\\n            <symbol viewBox=\"0 0 20 20\" id=\"large-arrow-down\">\\n                <path d=\"M17.418 6.109c.272-.268.709-.268.979 0s.271.701 0 .969l-7.908 7.83c-.27.268-.707.268-.979 0l-7.908-7.83c-.27-.268-.27-.701 0-.969.271-.268.709-.268.979 0L10 13.25l7.418-7.141z\"\\n                />\\n            </symbol>\\n\\n\\n            <symbol viewBox=\"0 0 24 24\" id=\"jump-to\">\\n                <path d=\"M19 7v4H5.83l3.58-3.59L8 6l-6 6 6 6 1.41-1.41L5.83 13H21V7z\" />\\n            </symbol>\\n\\n            <symbol viewBox=\"0 0 24 24\" id=\"expand\">\\n                <path d=\"M10 18h4v-2h-4v2zM3 6v2h18V6H3zm3 7h12v-2H6v2z\" />\\n            </symbol>\\n\\n        </defs>\\n    </svg>\\n\\n\\n    <div id=\"swagger-ui\">\\n        <div data-reactroot=\"\" class=\"swagger-ui\">\\n            <div>\\n                <div class=\"information-container wrapper\">\\n                    <section class=\"block col-12\">\\n                        <div class=\"info\">\\n                            <hgroup class=\"main\">\\n                                <h2 class=\"title\">httpbin.org\\n                                    <small>\\n                                        <pre class=\"version\">0.9.2</pre>\\n                                    </small>\\n                                </h2>\\n                                <pre class=\"base-url\">[ Base URL: httpbin.org/ ]</pre>\\n                            </hgroup>\\n                            <div class=\"description\">\\n                                <div class=\"markdown\">\\n                                    <p>A simple HTTP Request &amp; Response Service.\\n                                        <br>\\n                                        <br>\\n                                        <b>Run locally: </b>\\n                                        <code>$ docker run -p 80:80 kennethreitz/httpbin</code>\\n                                    </p>\\n                                </div>\\n                            </div>\\n                            <div>\\n                                <div>\\n                                    <a href=\"https://kennethreitz.org\" target=\"_blank\">the developer - Website</a>\\n                                </div>\\n                                <a href=\"mailto:me@kennethreitz.org\">Send email to the developer</a>\\n                            </div>\\n                        </div>\\n                        <!-- ADDS THE LOADER SPINNER -->\\n                        <div class=\"loading-container\">\\n                            <div class=\"loading\"></div>\\n                        </div>\\n\\n                    </section>\\n                </div>\\n            </div>\\n        </div>\\n    </div>\\n\\n\\n    <div class=\\'swagger-ui\\'>\\n        <div class=\"wrapper\">\\n            <section class=\"clear\">\\n                <span style=\"float: right;\">\\n                    [Powered by\\n                    <a target=\"_blank\" href=\"https://github.com/rochacbruno/flasgger\">Flasgger</a>]\\n                    <br>\\n                </span>\\n            </section>\\n        </div>\\n    </div>\\n\\n\\n\\n    <script src=\"/flasgger_static/swagger-ui-bundle.js\"> </script>\\n    <script src=\"/flasgger_static/swagger-ui-standalone-preset.js\"> </script>\\n    <script src=\\'/flasgger_static/lib/jquery.min.js\\' type=\\'text/javascript\\'></script>\\n    <script>\\n\\n        window.onload = function () {\\n            \\n\\n            fetch(\"/spec.json\")\\n                .then(function (response) {\\n                    response.json()\\n                        .then(function (json) {\\n                            var current_protocol = window.location.protocol.slice(0, -1);\\n                            if (json.schemes[0] != current_protocol) {\\n                                // Switches scheme to the current in use\\n                                var other_protocol = json.schemes[0];\\n                                json.schemes[0] = current_protocol;\\n                                json.schemes[1] = other_protocol;\\n\\n                            }\\n                            json.host = window.location.host;  // sets the current host\\n\\n                            const ui = SwaggerUIBundle({\\n                                spec: json,\\n                                validatorUrl: null,\\n                                dom_id: \\'#swagger-ui\\',\\n                                deepLinking: true,\\n                                jsonEditor: true,\\n                                docExpansion: \"none\",\\n                                apisSorter: \"alpha\",\\n                                //operationsSorter: \"alpha\",\\n                                presets: [\\n                                    SwaggerUIBundle.presets.apis,\\n                                    // yay ES6 modules ↘\\n                                    Array.isArray(SwaggerUIStandalonePreset) ? SwaggerUIStandalonePreset : SwaggerUIStandalonePreset.default\\n                                ],\\n                                plugins: [\\n                                    SwaggerUIBundle.plugins.DownloadUrl\\n                                ],\\n            \\n            // layout: \"StandaloneLayout\"  // uncomment to enable the green top header\\n        })\\n\\n        window.ui = ui\\n\\n        // uncomment to rename the top brand if layout is enabled\\n        // $(\".topbar-wrapper .link span\").replaceWith(\"<span>httpbin</span>\");\\n        })\\n    })\\n}\\n    </script>  <div class=\\'swagger-ui\\'>\\n    <div class=\"wrapper\">\\n        <section class=\"block col-12 block-desktop col-12-desktop\">\\n            <div>\\n\\n                <h2>Other Utilities</h2>\\n\\n                <ul>\\n                    <li>\\n                        <a href=\"/forms/post\">HTML form</a> that posts to /post /forms/post</li>\\n                </ul>\\n\\n                <br />\\n                <br />\\n            </div>\\n        </section>\\n    </div>\\n</div>\\n</body>\\n\\n</html>'"
      ]
     },
     "execution_count": 10,
     "metadata": {},
     "output_type": "execute_result"
    }
   ],
   "source": [
    "r = requests.get(\"https://httpbin.org/\")\n",
    "#r.content\n",
    "#or\n",
    "r.text"
   ]
  },
  {
   "cell_type": "markdown",
   "metadata": {},
   "source": [
    "- Post function"
   ]
  },
  {
   "cell_type": "code",
   "execution_count": 13,
   "metadata": {},
   "outputs": [
    {
     "data": {
      "text/plain": [
       "'{\\n  \"args\": {}, \\n  \"data\": \"\", \\n  \"files\": {}, \\n  \"form\": {\\n    \"password\": \"nifa\", \\n    \"username\": \"yassine\"\\n  }, \\n  \"headers\": {\\n    \"Accept\": \"*/*\", \\n    \"Accept-Encoding\": \"gzip, deflate\", \\n    \"Content-Length\": \"30\", \\n    \"Content-Type\": \"application/x-www-form-urlencoded\", \\n    \"Host\": \"httpbin.org\", \\n    \"User-Agent\": \"python-requests/2.22.0\", \\n    \"X-Amzn-Trace-Id\": \"Root=1-5f592d08-6c41dab0b8c1c351fd5476ef\"\\n  }, \\n  \"json\": null, \\n  \"origin\": \"78.193.121.81\", \\n  \"url\": \"https://httpbin.org/post\"\\n}\\n'"
      ]
     },
     "execution_count": 13,
     "metadata": {},
     "output_type": "execute_result"
    }
   ],
   "source": [
    "payload = {'username':'yassine', 'password': 'nifa'}\n",
    "r = requests.post(\"https://httpbin.org/post\",data=payload)\n",
    "r.text"
   ]
  },
  {
   "cell_type": "code",
   "execution_count": 18,
   "metadata": {},
   "outputs": [
    {
     "data": {
      "text/plain": [
       "{'args': {},\n",
       " 'data': '',\n",
       " 'files': {},\n",
       " 'form': {'password': 'nifa', 'username': 'yassine'},\n",
       " 'headers': {'Accept': '*/*',\n",
       "  'Accept-Encoding': 'gzip, deflate',\n",
       "  'Content-Length': '30',\n",
       "  'Content-Type': 'application/x-www-form-urlencoded',\n",
       "  'Host': 'httpbin.org',\n",
       "  'User-Agent': 'python-requests/2.22.0',\n",
       "  'X-Amzn-Trace-Id': 'Root=1-5f592d08-6c41dab0b8c1c351fd5476ef'},\n",
       " 'json': None,\n",
       " 'origin': '78.193.121.81',\n",
       " 'url': 'https://httpbin.org/post'}"
      ]
     },
     "execution_count": 18,
     "metadata": {},
     "output_type": "execute_result"
    }
   ],
   "source": [
    "# we can get the json format \n",
    "dic = r.json()\n",
    "dic"
   ]
  },
  {
   "cell_type": "code",
   "execution_count": 19,
   "metadata": {},
   "outputs": [
    {
     "data": {
      "text/plain": [
       "{'password': 'nifa', 'username': 'yassine'}"
      ]
     },
     "execution_count": 19,
     "metadata": {},
     "output_type": "execute_result"
    }
   ],
   "source": [
    "dic.get(\"form\")"
   ]
  },
  {
   "cell_type": "markdown",
   "metadata": {},
   "source": [
    "- Authentification"
   ]
  },
  {
   "cell_type": "code",
   "execution_count": 22,
   "metadata": {},
   "outputs": [
    {
     "data": {
      "text/plain": [
       "''"
      ]
     },
     "execution_count": 22,
     "metadata": {},
     "output_type": "execute_result"
    }
   ],
   "source": [
    "#username erroné\n",
    "import requests\n",
    "r = requests.get(\"https://httpbin.org/basic-auth/yassine/nifa\", auth=('hello','nifa'))\n",
    "r.text"
   ]
  },
  {
   "cell_type": "code",
   "execution_count": 23,
   "metadata": {},
   "outputs": [
    {
     "data": {
      "text/plain": [
       "'{\\n  \"authenticated\": true, \\n  \"user\": \"hello\"\\n}\\n'"
      ]
     },
     "execution_count": 23,
     "metadata": {},
     "output_type": "execute_result"
    }
   ],
   "source": [
    "#correct username\n",
    "r = requests.get(\"https://httpbin.org/basic-auth/hello/nifa\", auth=('hello','nifa'))\n",
    "r.text"
   ]
  },
  {
   "cell_type": "code",
   "execution_count": null,
   "metadata": {},
   "outputs": [],
   "source": []
  }
 ],
 "metadata": {
  "kernelspec": {
   "display_name": "Python 3",
   "language": "python",
   "name": "python3"
  },
  "language_info": {
   "codemirror_mode": {
    "name": "ipython",
    "version": 3
   },
   "file_extension": ".py",
   "mimetype": "text/x-python",
   "name": "python",
   "nbconvert_exporter": "python",
   "pygments_lexer": "ipython3",
   "version": "3.6.9"
  }
 },
 "nbformat": 4,
 "nbformat_minor": 2
}
